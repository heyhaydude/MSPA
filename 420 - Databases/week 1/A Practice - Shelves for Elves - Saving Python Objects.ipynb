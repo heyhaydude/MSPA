{
 "cells": [
  {
   "cell_type": "markdown",
   "metadata": {},
   "source": [
    "# Shelve: Another Way of Saving Python Objects"
   ]
  },
  {
   "cell_type": "markdown",
   "metadata": {},
   "source": [
    "(CC) Creative Commons BY-SA Lynd Bacon & Associates, Ltd. DBA Loma Buena Associates"
   ]
  },
  {
   "cell_type": "markdown",
   "metadata": {},
   "source": [
    "**NOTE**: If you run this notebook over and over again without deleting the `shelve` data file it creates between runs, you'll probably get anomalous results.\n",
    "\n",
    "`shelve` is a Python package that is included in the base of Python 2.7 and 3.4.  It's (yet) another way of making Python objects _persistent_:  You can use `shelve` to save Python things to files so that you can read them back in to later sessions.  A `shelve` \"shelf\" is like a Python dictionary that \"persists\" (continues to exist) after the end of a Python session, because it is written to disk.  Like a dictionary it has keys with asssociated values.  Unlike a regular dictionary, its keys must be string values.  A `shelve` data object can be more convenient to use than a pickle (it is, however, based on pickle), SQLite or another kind of RDB, or a noSQL store like MongoDB.\n",
    "\n",
    "To use the `shelve` package in a Python session, you need to import it first. It should be included in your Python distribution by default:"
   ]
  },
  {
   "cell_type": "code",
   "execution_count": 32,
   "metadata": {
    "collapsed": true
   },
   "outputs": [],
   "source": [
    "import shelve"
   ]
  },
  {
   "cell_type": "markdown",
   "metadata": {},
   "source": [
    "### Elves All In"
   ]
  },
  {
   "cell_type": "markdown",
   "metadata": {},
   "source": [
    "Suppose you have some elf names in a list that you want to save for use in a future Python session:"
   ]
  },
  {
   "cell_type": "code",
   "execution_count": 33,
   "metadata": {
    "collapsed": true
   },
   "outputs": [],
   "source": [
    "myElfNames=['Buddy','Andie','Obie','CatBallou']"
   ]
  },
  {
   "cell_type": "markdown",
   "metadata": {},
   "source": [
    "You can `shelve` them by first creating your `shelve` object:"
   ]
  },
  {
   "cell_type": "code",
   "execution_count": 34,
   "metadata": {
    "collapsed": true
   },
   "outputs": [],
   "source": [
    "myElf_db=shelve.open('myElf')      #This shelf is created in the current working directory."
   ]
  },
  {
   "cell_type": "markdown",
   "metadata": {},
   "source": [
    "Then you write your list to myElf_db, giving it a key:"
   ]
  },
  {
   "cell_type": "code",
   "execution_count": 35,
   "metadata": {
    "collapsed": false
   },
   "outputs": [],
   "source": [
    "myElf_db['Elves']=myElfNames # The key for the list is \"Elves.\"\n",
    "myElf_db.close()            # This ensures that what's in the shelf is written to disk."
   ]
  },
  {
   "cell_type": "markdown",
   "metadata": {},
   "source": [
    "These two statements store the `myElfNames` list in the shelf object `myElf_db` with the key `Elves`, and then they close the shelf object so that it will be saved on disk.  It will be a single binary file, or a couple of files, depending on what OS you are using."
   ]
  },
  {
   "cell_type": "markdown",
   "metadata": {},
   "source": [
    "### Getting Your Elves Out"
   ]
  },
  {
   "cell_type": "markdown",
   "metadata": {
    "collapsed": true
   },
   "source": [
    "Saving Python objects isn't very helpful if you can't get them \"unsaved\" later. Here's how you get your elf names back out of your shelve object.  Assuming that your shelve object is in your current working directory (use `os.getcwd()` to see what it is), you can do: "
   ]
  },
  {
   "cell_type": "code",
   "execution_count": 36,
   "metadata": {
    "collapsed": false
   },
   "outputs": [
    {
     "data": {
      "text/plain": [
       "KeysView(<shelve.DbfilenameShelf object at 0x04D74430>)"
      ]
     },
     "execution_count": 36,
     "metadata": {},
     "output_type": "execute_result"
    }
   ],
   "source": [
    "elfNamesBack=shelve.open('myElf')\n",
    "elfNamesBack.keys()"
   ]
  },
  {
   "cell_type": "markdown",
   "metadata": {},
   "source": [
    "The second statement illustrates that shelve objects have methods, some of which in common with Python dictionary objects. To see what they are, use the \"tab trick\" in iPython. At the prompt, type `elfNamesBack.<tab>` where `<tab>`  is the tab key.\n",
    "\n",
    "Note that if you are using Python 3, you may need to use `list(elfNamesBack.keys())` instead of the second statement, above.\n",
    "\n",
    "Here's what's in this shelf that's stored using the key \"Elves\":"
   ]
  },
  {
   "cell_type": "code",
   "execution_count": 39,
   "metadata": {
    "collapsed": false
   },
   "outputs": [
    {
     "data": {
      "text/plain": [
       "['Buddy', 'Andie', 'Obie', 'CatBallou']"
      ]
     },
     "execution_count": 39,
     "metadata": {},
     "output_type": "execute_result"
    }
   ],
   "source": [
    "elfNamesBack['Elves']"
   ]
  },
  {
   "cell_type": "markdown",
   "metadata": {},
   "source": [
    "Let's add another key/value pair to `myElf`.  The key will be \"airplanes\" and the value wiill be a dictionary: "
   ]
  },
  {
   "cell_type": "code",
   "execution_count": 7,
   "metadata": {
    "collapsed": true
   },
   "outputs": [],
   "source": [
    "elfNamesBack['airplanes']={\"slower\":'propeller',\"faster\":'jet',\"sixties\":'Jefferson'}"
   ]
  },
  {
   "cell_type": "markdown",
   "metadata": {},
   "source": [
    "So what's in `elfNamesBack` now?"
   ]
  },
  {
   "cell_type": "code",
   "execution_count": 8,
   "metadata": {
    "collapsed": false
   },
   "outputs": [
    {
     "data": {
      "text/plain": [
       "{'levels': ('low', 'medium', 'high'), 'airplanes': {'sixties': 'Jefferson', 'slower': 'propeller', 'faster': 'jet'}, 'Elves': ['Buddy', 'Andie', 'Obie', 'CatBallou']}"
      ]
     },
     "execution_count": 8,
     "metadata": {},
     "output_type": "execute_result"
    }
   ],
   "source": [
    "elfNamesBack"
   ]
  },
  {
   "cell_type": "markdown",
   "metadata": {},
   "source": [
    "So `elfNamesBack` looks like a dictionary: it has key/value pairs.  One of the pairs has a list as the value, and other other, a dictionary."
   ]
  },
  {
   "cell_type": "markdown",
   "metadata": {},
   "source": [
    "Note that to modify values in the shelve file we need to extract the thing we want to change from it, change it, and then put it back in.  For example, suppose we decided that \"CatBallou\" is not an elf name we want to keep.  We'd extract the \"Elves\" list from elfNamesBack, modify it, and then put it back into elfNamesBack:"
   ]
  },
  {
   "cell_type": "code",
   "execution_count": 9,
   "metadata": {
    "collapsed": false
   },
   "outputs": [
    {
     "data": {
      "text/plain": [
       "'CatBallou'"
      ]
     },
     "execution_count": 9,
     "metadata": {},
     "output_type": "execute_result"
    }
   ],
   "source": [
    "Elves=elfNamesBack['Elves']\n",
    "Elves.pop()           # 'CatBallou' is the last list element, so we can just 'pop' it out."
   ]
  },
  {
   "cell_type": "code",
   "execution_count": 10,
   "metadata": {
    "collapsed": false
   },
   "outputs": [
    {
     "data": {
      "text/plain": [
       "['Buddy', 'Andie', 'Obie']"
      ]
     },
     "execution_count": 10,
     "metadata": {},
     "output_type": "execute_result"
    }
   ],
   "source": [
    "Elves"
   ]
  },
  {
   "cell_type": "code",
   "execution_count": 11,
   "metadata": {
    "collapsed": false
   },
   "outputs": [],
   "source": [
    "elfNamesBack['Elves']=Elves              # put the modified version of Elves back in.  This replaces the key/value pair."
   ]
  },
  {
   "cell_type": "code",
   "execution_count": 12,
   "metadata": {
    "collapsed": false
   },
   "outputs": [
    {
     "data": {
      "text/plain": [
       "{'levels': ('low', 'medium', 'high'), 'airplanes': {'sixties': 'Jefferson', 'slower': 'propeller', 'faster': 'jet'}, 'Elves': ['Buddy', 'Andie', 'Obie']}"
      ]
     },
     "execution_count": 12,
     "metadata": {},
     "output_type": "execute_result"
    }
   ],
   "source": [
    "elfNamesBack"
   ]
  },
  {
   "cell_type": "code",
   "execution_count": 13,
   "metadata": {
    "collapsed": false
   },
   "outputs": [
    {
     "data": {
      "text/plain": [
       "['levels', 'airplanes', 'Elves']"
      ]
     },
     "execution_count": 13,
     "metadata": {},
     "output_type": "execute_result"
    }
   ],
   "source": [
    "elfNamesBack.keys()       # Here are the keys to the elves and the planes. Note that they are all string values."
   ]
  },
  {
   "cell_type": "code",
   "execution_count": 14,
   "metadata": {
    "collapsed": false
   },
   "outputs": [
    {
     "data": {
      "text/plain": [
       "['Buddy', 'Andie', 'Obie']"
      ]
     },
     "execution_count": 14,
     "metadata": {},
     "output_type": "execute_result"
    }
   ],
   "source": [
    "elfNamesBack['Elves']"
   ]
  },
  {
   "cell_type": "code",
   "execution_count": 15,
   "metadata": {
    "collapsed": false
   },
   "outputs": [],
   "source": [
    "elfNamesBack.close()"
   ]
  },
  {
   "cell_type": "markdown",
   "metadata": {},
   "source": [
    "This last statement closed our shelve data object file.  Note that the filename started out to be `myElf` and nothing above changed that.  We just referred to this file using different names, `myElf_db` and `elfNamesBack` when we created it and when we opened it in our Python session. \n",
    "\n",
    "Let's say we regret dropping \"CatBallou\" from our elf names list, and we want to add it back in.  We could do:"
   ]
  },
  {
   "cell_type": "code",
   "execution_count": 16,
   "metadata": {
    "collapsed": true
   },
   "outputs": [],
   "source": [
    "elfPlanes=shelve.open('myElf',writeback=True)     # The same file, with a different session name, you see.\n",
    "                                                  #  Use whatever Python-legal name works for you."
   ]
  },
  {
   "cell_type": "markdown",
   "metadata": {},
   "source": [
    "The \"writeback=True\" option allows caching in memory so that a shelf's sync() method or its close() can update its disk file.  This can be handy if your shelve object is large, or if you have many changes to make to it.\n",
    "\n",
    "For example, if you wanted to first add \"CatBallou\" back into your elf names list, and then you wanted to add a third key/value pair, you could update your disk file between these two steps:"
   ]
  },
  {
   "cell_type": "code",
   "execution_count": 17,
   "metadata": {
    "collapsed": false
   },
   "outputs": [],
   "source": [
    "elfPlanes['Elves'].append(\"CatBallou\")"
   ]
  },
  {
   "cell_type": "code",
   "execution_count": 18,
   "metadata": {
    "collapsed": false
   },
   "outputs": [
    {
     "data": {
      "text/plain": [
       "{'levels': ('low', 'medium', 'high'), 'airplanes': {'sixties': 'Jefferson', 'slower': 'propeller', 'faster': 'jet'}, 'Elves': ['Buddy', 'Andie', 'Obie', 'CatBallou']}"
      ]
     },
     "execution_count": 18,
     "metadata": {},
     "output_type": "execute_result"
    }
   ],
   "source": [
    "elfPlanes"
   ]
  },
  {
   "cell_type": "code",
   "execution_count": 19,
   "metadata": {
    "collapsed": true
   },
   "outputs": [],
   "source": [
    "elfPlanes.sync()       # This updates the file on disk.  The file is still open for reading and writing."
   ]
  },
  {
   "cell_type": "markdown",
   "metadata": {},
   "source": [
    "Now let's add a third object to our shelve file.  Let's add a tuple:"
   ]
  },
  {
   "cell_type": "code",
   "execution_count": 20,
   "metadata": {
    "collapsed": false
   },
   "outputs": [
    {
     "data": {
      "text/plain": [
       "('low', 'medium', 'high')"
      ]
     },
     "execution_count": 20,
     "metadata": {},
     "output_type": "execute_result"
    }
   ],
   "source": [
    "levels='low','medium','high'\n",
    "levels"
   ]
  },
  {
   "cell_type": "code",
   "execution_count": 21,
   "metadata": {
    "collapsed": true
   },
   "outputs": [],
   "source": [
    "elfPlanes['levels']=levels      # \"levels\" is the name of the tuple, and it's also used as the \"key\" in the shelf."
   ]
  },
  {
   "cell_type": "code",
   "execution_count": 22,
   "metadata": {
    "collapsed": false
   },
   "outputs": [
    {
     "data": {
      "text/plain": [
       "{'levels': ('low', 'medium', 'high'), 'airplanes': {'sixties': 'Jefferson', 'slower': 'propeller', 'faster': 'jet'}, 'Elves': ['Buddy', 'Andie', 'Obie', 'CatBallou']}"
      ]
     },
     "execution_count": 22,
     "metadata": {},
     "output_type": "execute_result"
    }
   ],
   "source": [
    "elfPlanes"
   ]
  },
  {
   "cell_type": "code",
   "execution_count": 23,
   "metadata": {
    "collapsed": true
   },
   "outputs": [],
   "source": [
    "elfPlanes.close()    # current version of elfPlanes is written for sure to disk file, and link to the file is closed."
   ]
  },
  {
   "cell_type": "markdown",
   "metadata": {},
   "source": [
    "Finally, note that the methods `shelve` objects have vary a little between Python versions 2.7 and 3.x.  Also, be aware that in both versions, how something you put into a `shelve` object \"persists\" depends on whether you have specified the `writeback=True` option."
   ]
  }
 ],
 "metadata": {
  "kernelspec": {
   "display_name": "Python 3",
   "language": "python",
   "name": "python3"
  },
  "language_info": {
   "codemirror_mode": {
    "name": "ipython",
    "version": 3
   },
   "file_extension": ".py",
   "mimetype": "text/x-python",
   "name": "python",
   "nbconvert_exporter": "python",
   "pygments_lexer": "ipython3",
   "version": "3.5.1"
  }
 },
 "nbformat": 4,
 "nbformat_minor": 0
}
