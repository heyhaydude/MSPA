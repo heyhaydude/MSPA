{
 "cells": [
  {
   "cell_type": "code",
   "execution_count": 1,
   "metadata": {
    "collapsed": false
   },
   "outputs": [
    {
     "data": {
      "text/plain": [
       "'D:\\\\Program Files\\\\Python\\\\Python35-32\\\\Anaconda3\\\\Library\\\\bin;D:\\\\Program Files\\\\Python\\\\Python35-32\\\\Anaconda3;D:\\\\Program Files\\\\Python\\\\Python35-32\\\\Anaconda3\\\\Scripts;D:\\\\Program Files\\\\Python\\\\Python35-32\\\\Anaconda3\\\\Library\\\\bin;D:\\\\Program Files\\\\Python\\\\Python35-32\\\\Anaconda3\\\\Library\\\\bin;D:\\\\Program Files\\\\Python\\\\Python35-32\\\\Scripts\\\\;D:\\\\Program Files\\\\Python\\\\Python35-32\\\\;C:\\\\ProgramData\\\\Oracle\\\\Java\\\\javapath;C:\\\\windows\\\\system32;C:\\\\windows;C:\\\\windows\\\\System32\\\\Wbem;C:\\\\windows\\\\System32\\\\WindowsPowerShell\\\\v1.0\\\\;C:\\\\Program Files (x86)\\\\NVIDIA Corporation\\\\PhysX\\\\Common;c:\\\\Program Files\\\\Intel\\\\WiFi\\\\bin\\\\;c:\\\\Program Files\\\\Common Files\\\\Intel\\\\WirelessCommon\\\\;C:\\\\Program Files (x86)\\\\Windows Kits\\\\10\\\\Windows Performance Toolkit\\\\;C:\\\\Program Files\\\\Microsoft SQL Server\\\\120\\\\Tools\\\\Binn\\\\;C:\\\\Program Files\\\\Microsoft\\\\Web Platform Installer\\\\;C:\\\\Users\\\\haydu\\\\.dnx\\\\bin;C:\\\\Program Files\\\\Microsoft DNX\\\\Dnvm\\\\;D:\\\\Program Files\\\\winglpk-4.57\\\\glpk-4.57\\\\w64;D:\\\\Program Files\\\\Python\\\\Python35-32\\\\Anaconda3;D:\\\\Program Files\\\\Python\\\\Python35-32\\\\Anaconda3\\\\Scripts;D:\\\\Program Files\\\\Python\\\\Python35-32\\\\Anaconda3\\\\Library\\\\bin;C:\\\\WINDOWS\\\\system32;C:\\\\WINDOWS;C:\\\\WINDOWS\\\\System32\\\\Wbem;C:\\\\WINDOWS\\\\System32\\\\WindowsPowerShell\\\\v1.0\\\\;d:\\\\program files\\\\user\\\\scripts;D:\\\\Program Files\\\\User;D:\\\\Program Files\\\\User\\\\Scripts;C:\\\\Users\\\\haydu\\\\AppData\\\\Local\\\\Pandoc\\\\'"
      ]
     },
     "execution_count": 1,
     "metadata": {},
     "output_type": "execute_result"
    }
   ],
   "source": [
    "import os\n",
    "os.environ['PATH']"
   ]
  }
 ],
 "metadata": {
  "kernelspec": {
   "display_name": "Python 2",
   "language": "python",
   "name": "python2"
  },
  "language_info": {
   "codemirror_mode": {
    "name": "ipython",
    "version": 2
   },
   "file_extension": ".py",
   "mimetype": "text/x-python",
   "name": "python",
   "nbconvert_exporter": "python",
   "pygments_lexer": "ipython2",
   "version": "2.7.11"
  }
 },
 "nbformat": 4,
 "nbformat_minor": 0
}
